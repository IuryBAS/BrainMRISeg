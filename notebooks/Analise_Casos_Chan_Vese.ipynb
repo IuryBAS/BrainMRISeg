{
 "cells": [
  {
   "cell_type": "markdown",
   "source": [
    "# Discussão de casos: Segmentação de Chan-Vese\n",
    "## Introdução\n",
    "\n",
    "Este notebook tem por finalidade apresentar e explicar, de forma que o leitor consiga compreender, como o método de Chan-Vese funciona no contexto de segmentação assistida para imagens de ressonância magnética, no problema descrito no [inserir notebook]. Para facilitar a demonstração do [inserir notebook], este notebook será executado em *batch* para um determinado escopo de *slices* de um paciente. Além disso, serão dsicutidos os casos de falha e sucesso das execuções, com uma análise sobre os resultados que seguem.\n",
    "\n",
    "O roteiro de execução se dá como segue:\n",
    "* O usuário tendo em mãos um paciente, localiza a lesão de interesse em um determinado slice da aquisição MRI;\n",
    "* Neste slice em específico, o usuário deve realizar as operações necessárias para a execução do processo de segmentação, isto é, definir possíveis passos de pré-processamento, seus respectivos parâmetros, e demais etapas necessárias para obter-se uma segmentação bem-sucedida da lesão;\n",
    "* Tendo-se uma imagem preprocessada, o usuário escolhe os parametros $\\mu$, $\\lambda_{1}$, $\\lambda_{2}$, definindo assim o método, e uma *seed*, para conseguir a parte conexa da segmentação.\n",
    "* Após todos os paremetros serem dados, executa-se o método em questão.\n",
    "* Dada uma segmentação exitosa, o usuário então informa um escopo de slices, precedentes, posteriores, ou ambos, para o qual o método deve segmentar usando os mesmos parâmetros e ordem de etapas realizados no *slice* de referência.\n",
    "\n",
    "O objetivo é que, tendo uma segmentação de boa qualidade para um slice referência, os mesmos procedimentos possam ser executados em slices adjacentes, auxiliando no processo de segmentação em sequência.\n",
    "\n",
    "Ao todo foram analisados 4 casos de teste distintos, variando entre 6 a 9 slices em cada, totalizando juntamente um total de 31 slices. Os casos de teste possuem diferentes níveis de dificuldade para a segmentação, tanto em tamanho das regiões a serem segmentadas, como em complexidade das formas.\n",
    "\n",
    "Para as execuções apresentadas nesse notebook, cada caso de teste foi executado individualmente e os preprocessamentos e sementes foram definidas para o slice de referência. Desta forma, e etapa de exploração a ser executada pelo usuário já foi efetuada e aqui reproduzimos os resultados posteriores a esse processo.\n",
    "\n",
    "Para efeito de apresentação, não foram feitos preprocessamentos para este método, de modo a entender como o método funciona por si só.\n",
    "\n",
    "## Explicação do método\n",
    "\n",
    "Chan-Vese para contorno ativo é um método muito poderoso e flexível, permitindo segmentações de vários tipos de imagens, podendo ser bem útil quando métodos como thresholding ou gradientes não funcionem tão bem.\n",
    "\n",
    "Tal modelo se baseia na ideia de minimizar um funcional energia, podendo ser reformulado como curvas de nível, tornando assim mais fácil de resolver o problema.\n",
    "\n",
    "Como o objetivo é entender a análise de casos do método, apenas uma breve apresentação da ideia do método será mostrada.\n",
    "\n",
    "Seja C uma curva, $C^{1}[0, 1]$ por partes. Vamos denotar por $\\omega$ como região interna de C. Além disso, iremos denotar por $c_{1}$ a intensidade média dos pontos interiores e $c_{2}$ a intensidade externa a curva C.\n",
    "\n",
    "O objetivo do método é minimizar o funcional energia\n",
    "\n",
    "$F(c_{1}$, $c_{2}$, C$)$ = $\\mu$*Comprimento(C) + $\\lambda_{1}$ * $\\int$ |Image$[x,y]$ - $c_{1}$|$^{2}dxdy$ + $\\lambda_{2}$ * $\\int$ |Image$[x,y]$ - $c_{2}$|$^{2}dxdy$\n",
    "\n",
    "Onde a primeira integral tem como domínio o interior da curva e a segunda, a parte exterior.\n",
    "\n",
    "Esta é a ideia por trás do método."
   ],
   "metadata": {
    "collapsed": false,
    "pycharm": {
     "name": "#%% md\n"
    }
   }
  },
  {
   "cell_type": "markdown",
   "source": [
    "# Desenvolvimento\n",
    "\n",
    "Inicialmente, é realizada a importação das bibliotecas numpy, math e matplotlib, juntamente com os arquivos `utils`, `chan-vese` e o método `chan_vese`, importado de `skimage`, que implementam métodos utilitários e os métodos necessários para execução da segmentaçao."
   ],
   "metadata": {
    "collapsed": false,
    "pycharm": {
     "name": "#%% md\n"
    }
   }
  },
  {
   "cell_type": "code",
   "execution_count": 2,
   "outputs": [
    {
     "ename": "ModuleNotFoundError",
     "evalue": "No module named 'utils'",
     "output_type": "error",
     "traceback": [
      "\u001B[0;31m---------------------------------------------------------------------------\u001B[0m",
      "\u001B[0;31mModuleNotFoundError\u001B[0m                       Traceback (most recent call last)",
      "Input \u001B[0;32mIn [2]\u001B[0m, in \u001B[0;36m<cell line: 4>\u001B[0;34m()\u001B[0m\n\u001B[1;32m      2\u001B[0m \u001B[38;5;28;01mfrom\u001B[39;00m \u001B[38;5;21;01mskimage\u001B[39;00m\u001B[38;5;21;01m.\u001B[39;00m\u001B[38;5;21;01msegmentation\u001B[39;00m \u001B[38;5;28;01mimport\u001B[39;00m chan_vese\n\u001B[1;32m      3\u001B[0m \u001B[38;5;28;01mimport\u001B[39;00m \u001B[38;5;21;01mnumpy\u001B[39;00m \u001B[38;5;28;01mas\u001B[39;00m \u001B[38;5;21;01mnp\u001B[39;00m\n\u001B[0;32m----> 4\u001B[0m \u001B[38;5;28;01mimport\u001B[39;00m \u001B[38;5;21;01mutils\u001B[39;00m\n",
      "\u001B[0;31mModuleNotFoundError\u001B[0m: No module named 'utils'"
     ]
    }
   ],
   "source": [
    "import matplotlib.pyplot as plt\n",
    "from skimage.segmentation import chan_vese\n",
    "import numpy as np\n",
    "\n",
    "from src import utils\n",
    "from src import chan_vese\n",
    "from src import args_test"
   ],
   "metadata": {
    "collapsed": false,
    "pycharm": {
     "name": "#%%\n"
    }
   }
  },
  {
   "cell_type": "markdown",
   "source": [
    "Inicialmente, definimos uma função para recuperar _slices_ sequenciais de um mesmo paciente. Para tanto, deve ser informado o paciente desejado, o escopo de _slices_ desejado e a perspectiva dos mesmos. Ao final, a função retorna um _array_ com todas as sequências prontas para uso pelo método de segmentação.\n",
    "\n",
    "O método para obtenção dos _slices_ em _batch_ também pode ser configurado para retornar as máscaras, definindo-se a flag `masks` para `True`. As máscaras retornadas pelo método foram criadas por um humano e são definidas como _groundtruth_ durante as avaliações."
   ],
   "metadata": {
    "collapsed": false,
    "pycharm": {
     "name": "#%% md\n"
    }
   }
  },
  {
   "cell_type": "code",
   "execution_count": 3,
   "outputs": [],
   "source": [
    "def get_batch_data(df, subject_id, slices_range, perspective, masks=False):\n",
    "    start_slice, end_slice = slices_range\n",
    "    slices_array = []\n",
    "    for n_slice in range(start_slice, end_slice):\n",
    "        slice_n = utils.get_image(df, subject_id, n_slice, perspective, masks)\n",
    "        slices_array.append(np.flip(slice_n))\n",
    "\n",
    "    return slices_array"
   ],
   "metadata": {
    "collapsed": false,
    "pycharm": {
     "name": "#%%\n"
    }
   }
  },
  {
   "cell_type": "markdown",
   "source": [
    "O método a seguir realiza a execução o método Chan-Vese para o conjunto de slices obtidos por meio do método get_batch_data descrito anteriormente."
   ],
   "metadata": {
    "collapsed": false,
    "pycharm": {
     "name": "#%% md\n"
    }
   }
  },
  {
   "cell_type": "code",
   "execution_count": 4,
   "outputs": [],
   "source": [
    "def apply_batch_chan_vese(df, subject_id, slices_range, perspective, mu,\n",
    "                          lambda1, lambda2, x, y, n_case):\n",
    "\n",
    "    slices_array = get_batch_data(df, subject_id, slices_range, perspective)\n",
    "    masks_array = get_batch_data(df, subject_id, slices_range, perspective, True)\n",
    "    seg_masks_array = []\n",
    "    dice_scores = []\n",
    "\n",
    "    for slice, gt_mask in zip(slices_array, masks_array):\n",
    "        img_seg = chan_vese.apply_chan_vese(slice, (x, y), mu, lambda1, lambda2)\n",
    "        dice_score = dice_score_similarity(img_seg, gt_mask)\n",
    "        dice_scores.append(dice_score)\n",
    "        seg_masks_array.append(img_seg)\n",
    "\n",
    "    plot_mosaic(seg_masks_array, slices_range, f'CASE {n_case} - Chan Vese Segmented Masks')\n",
    "\n",
    "    return np.asarray(dice_scores)"
   ],
   "metadata": {
    "collapsed": false,
    "pycharm": {
     "name": "#%%\n"
    }
   }
  },
  {
   "cell_type": "markdown",
   "source": [
    "Como dito anteriormente, o método acima automatiza os seguintes processos, para cada caso de testes:\n",
    "* Obtenção do conjunto de slices de um determinado paciente;\n",
    "* Execução, para cada slice;\n",
    "* Execução da segmentação na image;\n",
    "* Avaliação por meio da métrica dice score de similaridade entre a máscara gerada pelo método de segmentação e a máscara groundtruth;\n",
    "* Por fim, geração de mosaico com todas as segmentações obtidas e as máscaras groundtruth para avaliação visual dos resultados."
   ],
   "metadata": {
    "collapsed": false,
    "pycharm": {
     "name": "#%% md\n"
    }
   }
  },
  {
   "cell_type": "code",
   "execution_count": 5,
   "outputs": [],
   "source": [
    "def plot_mosaic(slices_array, slice_range, title):\n",
    "    '''\n",
    "    Function to plot (or save) a mosaic with all slices masks\n",
    "\n",
    "    Params:\n",
    "        slices_array: Array with all slices masks to be plotted\n",
    "        slice_range: Range of slices to calculate the grid of the mosaic\n",
    "        title: String title of the mosaic plot\n",
    "    '''\n",
    "    mri_slice = slices_array[0]\n",
    "    seg_mask_array = slices_array[1]\n",
    "    gt_mask_array = slices_array[2]\n",
    "\n",
    "    start_slice, end_slice = slice_range\n",
    "    n_cols = 3\n",
    "    n_rows = math.ceil((end_slice - start_slice)) # / n_cols)\n",
    "    fig, axs = plt.subplots(nrows=n_rows, ncols=n_cols, figsize=(20, 50))\n",
    "    fig.suptitle(title)\n",
    "    i = 0\n",
    "    slice_count = 0\n",
    "    for mri, seg, gt in zip(mri_slice, seg_mask_array, gt_mask_array):\n",
    "        ax = plt.subplot(n_rows, n_cols, i+1)\n",
    "        ax.title.set_text(f'Slice {start_slice + slice_count} - MRI')\n",
    "        plt.imshow(mri, cmap='gray')\n",
    "        ax = plt.subplot(n_rows, n_cols, i+2)\n",
    "        ax.title.set_text(f'Slice {start_slice + slice_count} - Watershed')\n",
    "        plt.imshow(mri, cmap='gray')\n",
    "        plt.imshow(seg, cmap='inferno', alpha=0.7)\n",
    "        ax = plt.subplot(n_rows, n_cols, i+3)\n",
    "        ax.title.set_text(f'Slice {start_slice + slice_count} - GT')\n",
    "        plt.imshow(mri, cmap='gray')\n",
    "        plt.imshow(gt, cmap='inferno', alpha=0.7)\n",
    "        i += 3\n",
    "        slice_count += 1\n",
    "    plt.savefig(title)\n",
    "\n",
    "\n",
    "def dice_score_similarity(prev_seg, bg_mask, value_mask=1):\n",
    "    '''\n",
    "    Calculate the dice score similarity between a groundtruth mask and a mask\n",
    "    result from a segmentation process. The dice score returns values in range\n",
    "    (0, 1), being 1 total similarity and 0 total disimilarity\n",
    "\n",
    "    Params:\n",
    "        prev_seg: A segmentation result from a segmentation algorithm\n",
    "        gt_mask: A groundtruth mask\n",
    "        value_mask: The value of the pixels that are contained in the segmentation\n",
    "                    mask\n",
    "\n",
    "    Returns:\n",
    "        The dice score similarity value between the masks\n",
    "    '''\n",
    "    dice_score = np.sum(prev_seg[bg_mask == value_mask]) * 2.0\n",
    "    dice_score /= (np.sum(prev_seg) + np.sum(bg_mask))\n",
    "    return dice_score"
   ],
   "metadata": {
    "collapsed": false,
    "pycharm": {
     "name": "#%%\n"
    }
   }
  },
  {
   "cell_type": "markdown",
   "source": [
    "Por fim, os métodos para construção do mosaico de imagens e avaliação por meio do índice dice de similaridade são definidos a seguir.\n",
    "\n",
    "# Execução\n",
    "\n",
    "Primeiramente, construímos o conjunto de dados, de maneira similar ao realizado no [inserrir notebook]. Em seguida, carregamos os casos de teste definidos no arquivo args_teste."
   ],
   "metadata": {
    "collapsed": false,
    "pycharm": {
     "name": "#%% md\n"
    }
   }
  },
  {
   "cell_type": "code",
   "execution_count": 6,
   "outputs": [
    {
     "ename": "NameError",
     "evalue": "name 'utils' is not defined",
     "output_type": "error",
     "traceback": [
      "\u001B[0;31m---------------------------------------------------------------------------\u001B[0m",
      "\u001B[0;31mNameError\u001B[0m                                 Traceback (most recent call last)",
      "Input \u001B[0;32mIn [6]\u001B[0m, in \u001B[0;36m<cell line: 1>\u001B[0;34m()\u001B[0m\n\u001B[0;32m----> 1\u001B[0m df \u001B[38;5;241m=\u001B[39m \u001B[43mutils\u001B[49m\u001B[38;5;241m.\u001B[39mbuild_dataframe(\u001B[38;5;124m'\u001B[39m\u001B[38;5;124m../Episurg\u001B[39m\u001B[38;5;124m'\u001B[39m, \u001B[38;5;124m'\u001B[39m\u001B[38;5;124msubjects.csv\u001B[39m\u001B[38;5;124m'\u001B[39m)\n\u001B[1;32m      3\u001B[0m CASES \u001B[38;5;241m=\u001B[39m args_test_watershed\u001B[38;5;241m.\u001B[39mTESTE_CASES\n\u001B[1;32m      4\u001B[0m dices_scores_watershed \u001B[38;5;241m=\u001B[39m []\n",
      "\u001B[0;31mNameError\u001B[0m: name 'utils' is not defined"
     ]
    }
   ],
   "source": [
    "df = utils.build_dataframe('../Episurg', 'subjects.csv')\n",
    "\n",
    "CASES = args_test.TESTE_CASES\n",
    "dices_scores_cha_vese = []\n",
    "n_case = 1\n",
    "res_dict = {}"
   ],
   "metadata": {
    "collapsed": false,
    "pycharm": {
     "name": "#%%\n"
    }
   }
  },
  {
   "cell_type": "markdown",
   "source": [
    "# Caso de teste Nº 1"
   ],
   "metadata": {
    "collapsed": false,
    "pycharm": {
     "name": "#%% md\n"
    }
   }
  },
  {
   "cell_type": "code",
   "execution_count": 1,
   "outputs": [
    {
     "ename": "NameError",
     "evalue": "name 'CASES' is not defined",
     "output_type": "error",
     "traceback": [
      "\u001B[0;31m---------------------------------------------------------------------------\u001B[0m",
      "\u001B[0;31mNameError\u001B[0m                                 Traceback (most recent call last)",
      "Input \u001B[0;32mIn [1]\u001B[0m, in \u001B[0;36m<cell line: 2>\u001B[0;34m()\u001B[0m\n\u001B[1;32m      1\u001B[0m n_case \u001B[38;5;241m=\u001B[39m \u001B[38;5;241m0\u001B[39m\n\u001B[0;32m----> 2\u001B[0m case_test \u001B[38;5;241m=\u001B[39m \u001B[43mCASES\u001B[49m[n_case]\n\u001B[1;32m      3\u001B[0m sub_id \u001B[38;5;241m=\u001B[39m case_test[\u001B[38;5;124m'\u001B[39m\u001B[38;5;124msubject_id\u001B[39m\u001B[38;5;124m'\u001B[39m]\n\u001B[1;32m      4\u001B[0m slices_range \u001B[38;5;241m=\u001B[39m case_test[\u001B[38;5;124m'\u001B[39m\u001B[38;5;124mslice_range\u001B[39m\u001B[38;5;124m'\u001B[39m]\n",
      "\u001B[0;31mNameError\u001B[0m: name 'CASES' is not defined"
     ]
    }
   ],
   "source": [
    "n_case = 0\n",
    "case_test = CASES[n_case]\n",
    "sub_id = case_test['subject_id']\n",
    "slices_range = case_test['slice_range']\n",
    "perspective = case_test['perspective']\n",
    "mu = case_test['mu']\n",
    "lambda1 = case_test['lambda1']\n",
    "lambda2 = case_test['lambda2']\n",
    "y = case_test['x']\n",
    "x = case_test['y']\n",
    "\n",
    "print(f'Id do Subject: {sub_id}')\n",
    "print(f'Intervalo de slices: {slices_range}')\n",
    "print(f'Perspectiva dos slices: {perspective}')\n",
    "print(f'Coordanada X da semente: {x}')\n",
    "print(f'Coordanada Y da semente: {y}')"
   ],
   "metadata": {
    "collapsed": false,
    "pycharm": {
     "name": "#%%\n"
    }
   }
  },
  {
   "cell_type": "code",
   "execution_count": 2,
   "outputs": [
    {
     "ename": "SyntaxError",
     "evalue": "invalid syntax (1089353678.py, line 2)",
     "output_type": "error",
     "traceback": [
      "\u001B[0;36m  Input \u001B[0;32mIn [2]\u001B[0;36m\u001B[0m\n\u001B[0;31m    slices_result, dices_chan_vese = def apply_batch_chan_vese(df, subject_id, slices_range, perspective, mu,\u001B[0m\n\u001B[0m                                     ^\u001B[0m\n\u001B[0;31mSyntaxError\u001B[0m\u001B[0;31m:\u001B[0m invalid syntax\n"
     ]
    }
   ],
   "source": [
    "res_dict = {}\n",
    "slices_result, dices_chan_vese = apply_batch_chan_vese(df, sub_id, slices_range, perspective, mu,\n",
    "                                lambda1, lambda2, x, y, n_case)\n",
    "dices_scores_cha_vese.append(dices_chan_vese)\n",
    "res_dict[f'CASE{n_case}'] = {'chan_vese': dices_chan_vese}"
   ],
   "metadata": {
    "collapsed": false,
    "pycharm": {
     "name": "#%%\n"
    }
   }
  },
  {
   "cell_type": "code",
   "execution_count": null,
   "outputs": [],
   "source": [],
   "metadata": {
    "collapsed": false,
    "pycharm": {
     "name": "#%%\n"
    }
   }
  }
 ],
 "metadata": {
  "kernelspec": {
   "display_name": "Python 3",
   "language": "python",
   "name": "python3"
  },
  "language_info": {
   "codemirror_mode": {
    "name": "ipython",
    "version": 2
   },
   "file_extension": ".py",
   "mimetype": "text/x-python",
   "name": "python",
   "nbconvert_exporter": "python",
   "pygments_lexer": "ipython2",
   "version": "2.7.6"
  }
 },
 "nbformat": 4,
 "nbformat_minor": 0
}